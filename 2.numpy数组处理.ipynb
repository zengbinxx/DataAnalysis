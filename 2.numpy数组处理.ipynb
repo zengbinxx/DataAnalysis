{
 "cells": [
  {
   "cell_type": "code",
   "execution_count": 2,
   "id": "3fb1342d",
   "metadata": {},
   "outputs": [],
   "source": [
    "import numpy as np"
   ]
  },
  {
   "cell_type": "code",
   "execution_count": 3,
   "id": "1c9477a6",
   "metadata": {},
   "outputs": [
    {
     "data": {
      "text/plain": [
       "array([[0, 1, 2, 3, 4],\n",
       "       [5, 6, 7, 8, 9]])"
      ]
     },
     "execution_count": 3,
     "metadata": {},
     "output_type": "execute_result"
    }
   ],
   "source": [
    "arr = np.arange(10).reshape(2,5)\n",
    "arr"
   ]
  },
  {
   "cell_type": "code",
   "execution_count": 4,
   "id": "cc9a9139",
   "metadata": {},
   "outputs": [
    {
     "data": {
      "text/plain": [
       "array([[0, 5],\n",
       "       [1, 6],\n",
       "       [2, 7],\n",
       "       [3, 8],\n",
       "       [4, 9]])"
      ]
     },
     "execution_count": 4,
     "metadata": {},
     "output_type": "execute_result"
    }
   ],
   "source": [
    "# 使用transpose转置\n",
    "np.transpose(arr)"
   ]
  },
  {
   "cell_type": "code",
   "execution_count": 5,
   "id": "a303b2d3",
   "metadata": {},
   "outputs": [
    {
     "data": {
      "text/plain": [
       "[1, 2, 3, 4]"
      ]
     },
     "execution_count": 5,
     "metadata": {},
     "output_type": "execute_result"
    }
   ],
   "source": [
    "arr1 = ([1,2,3,4])\n",
    "arr1"
   ]
  },
  {
   "cell_type": "code",
   "execution_count": 6,
   "id": "6a56d628",
   "metadata": {},
   "outputs": [
    {
     "data": {
      "text/plain": [
       "array([1, 2, 3, 4])"
      ]
     },
     "execution_count": 6,
     "metadata": {},
     "output_type": "execute_result"
    }
   ],
   "source": [
    "# 一维数组使用转置和不用效果是一样的\n",
    "np.transpose(arr1)"
   ]
  },
  {
   "cell_type": "code",
   "execution_count": 7,
   "id": "41db514d",
   "metadata": {},
   "outputs": [
    {
     "data": {
      "text/plain": [
       "array([[0, 5],\n",
       "       [1, 6],\n",
       "       [2, 7],\n",
       "       [3, 8],\n",
       "       [4, 9]])"
      ]
     },
     "execution_count": 7,
     "metadata": {},
     "output_type": "execute_result"
    }
   ],
   "source": [
    "# 使用数组对象.T实现转置\n",
    "arr.T"
   ]
  },
  {
   "cell_type": "markdown",
   "id": "97ca9087",
   "metadata": {},
   "source": [
    "### 数组常见操作"
   ]
  },
  {
   "cell_type": "markdown",
   "id": "b771f73b",
   "metadata": {},
   "source": [
    "#### 1.数组排序"
   ]
  },
  {
   "cell_type": "markdown",
   "id": "96c37341",
   "metadata": {},
   "source": [
    "numpy.sort(a, axis = -1, kind = None, order = None)  \n",
    "参数含义：  \n",
    "**a**:需要进行排序的数组  \n",
    "**axis**:需要操作的轴，如果为0表示的是行，如果是1表示的是列  \n",
    "kind：排序算法，可选参数:'quicksort','mergesort','heapsort','stable'.分别表示：快速排序，归并排序，堆排序，稳定排序  \n",
    "order：指定字段名排序  \n",
    "使用方法：\n",
    "1.numpy.sort(数组）\n",
    "2.数组.sort()"
   ]
  },
  {
   "cell_type": "code",
   "execution_count": 8,
   "id": "f108c57b",
   "metadata": {},
   "outputs": [
    {
     "data": {
      "text/plain": [
       "array([1, 5, 3, 4, 6, 0])"
      ]
     },
     "execution_count": 8,
     "metadata": {},
     "output_type": "execute_result"
    }
   ],
   "source": [
    "num = np.array([1,5,3,4,6,0])\n",
    "num"
   ]
  },
  {
   "cell_type": "code",
   "execution_count": 9,
   "id": "dadc6b4a",
   "metadata": {},
   "outputs": [
    {
     "data": {
      "text/plain": [
       "array([0, 1, 3, 4, 5, 6])"
      ]
     },
     "execution_count": 9,
     "metadata": {},
     "output_type": "execute_result"
    }
   ],
   "source": [
    "np.sort(num)"
   ]
  },
  {
   "cell_type": "code",
   "execution_count": null,
   "id": "1e88dadd",
   "metadata": {},
   "outputs": [],
   "source": [
    "# 使用数组.sort()来排序\n",
    "num.sort()"
   ]
  },
  {
   "cell_type": "markdown",
   "id": "2a0bb8b7",
   "metadata": {},
   "source": [
    "numpy.sort(数组)2种方式的区别数组.sort();   \n",
    "nupy.sort(数组)：不会对原数据进行修改，而是返回新的数据。  \n",
    "数组.sort()：直接修改原数据，不会返回值。"
   ]
  },
  {
   "cell_type": "markdown",
   "id": "8ba63680",
   "metadata": {},
   "source": [
    "####　2.添加数据"
   ]
  },
  {
   "cell_type": "markdown",
   "id": "b9712379",
   "metadata": {},
   "source": [
    "numpy.append(arr, values, axis = None)  \n",
    "arr:数组  \n",
    "values:需要添加的值  \n",
    "axis：轴  \n",
    "注意：  \n",
    "1.如果axis没有指定值，那么arr和values都会被铺平（都会被展开成一维数组），然后再添加。如果说指定了值，那么就会在对应的轴上进行添加操作。\n",
    "2.在添加数据的时候需要注意arr和values的维度需要相同，以及values的长度需要arr对应轴方向上的数据长度相同。"
   ]
  },
  {
   "cell_type": "code",
   "execution_count": 12,
   "id": "13f214be",
   "metadata": {},
   "outputs": [
    {
     "data": {
      "text/plain": [
       "array([[1, 2, 3],\n",
       "       [4, 5, 6]])"
      ]
     },
     "execution_count": 12,
     "metadata": {},
     "output_type": "execute_result"
    }
   ],
   "source": [
    "arr2 = np.array([[1,2,3],[4,5,6]])\n",
    "arr2"
   ]
  },
  {
   "cell_type": "code",
   "execution_count": 13,
   "id": "f1e99b42",
   "metadata": {},
   "outputs": [
    {
     "data": {
      "text/plain": [
       "array([1, 2, 3, 4, 5, 6, 0, 0, 0])"
      ]
     },
     "execution_count": 13,
     "metadata": {},
     "output_type": "execute_result"
    }
   ],
   "source": [
    "# 不指定axis参数添加\n",
    "np.append(arr2,[0,0,0])"
   ]
  },
  {
   "cell_type": "code",
   "execution_count": 14,
   "id": "37fc9fdc",
   "metadata": {},
   "outputs": [
    {
     "data": {
      "text/plain": [
       "array([[1, 2, 3],\n",
       "       [4, 5, 6],\n",
       "       [2, 2, 2]])"
      ]
     },
     "execution_count": 14,
     "metadata": {},
     "output_type": "execute_result"
    }
   ],
   "source": [
    "# 指定轴进行添加\n",
    "np.append(arr2,[[2,2,2]],  \n",
    "          #对行进行操作\n",
    "          axis = 0)"
   ]
  },
  {
   "cell_type": "code",
   "execution_count": 18,
   "id": "0dfc431a",
   "metadata": {},
   "outputs": [
    {
     "data": {
      "text/plain": [
       "array([[1, 2, 3, 0],\n",
       "       [4, 5, 6, 0]])"
      ]
     },
     "execution_count": 18,
     "metadata": {},
     "output_type": "execute_result"
    }
   ],
   "source": [
    "np.append(arr2, [[0],[0]],axis = 1)"
   ]
  },
  {
   "cell_type": "markdown",
   "id": "234995fd",
   "metadata": {},
   "source": [
    "2.numpy.insert(arr,obj,values,axis=None)  \n",
    "arr:数组对象  \n",
    "obj:插入元素的位置,值不能大于数据对应维度的长度  \n",
    "values:值，被插入的数据  \n",
    "axis：轴"
   ]
  },
  {
   "cell_type": "code",
   "execution_count": 21,
   "id": "5e538196",
   "metadata": {},
   "outputs": [
    {
     "data": {
      "text/plain": [
       "array([1, 2, 3, 4])"
      ]
     },
     "execution_count": 21,
     "metadata": {},
     "output_type": "execute_result"
    }
   ],
   "source": [
    "arr3 = np.array([1,2,3,4])\n",
    "arr3"
   ]
  },
  {
   "cell_type": "code",
   "execution_count": 23,
   "id": "62639707",
   "metadata": {},
   "outputs": [
    {
     "data": {
      "text/plain": [
       "array([0, 1, 2, 3, 4])"
      ]
     },
     "execution_count": 23,
     "metadata": {},
     "output_type": "execute_result"
    }
   ],
   "source": [
    "np.insert(arr3,0,0,axis=0)"
   ]
  },
  {
   "cell_type": "code",
   "execution_count": 25,
   "id": "f14e086c",
   "metadata": {},
   "outputs": [
    {
     "data": {
      "text/plain": [
       "array([[ 0,  1,  2],\n",
       "       [ 3,  4,  5],\n",
       "       [ 6,  7,  8],\n",
       "       [ 9, 10, 11]])"
      ]
     },
     "execution_count": 25,
     "metadata": {},
     "output_type": "execute_result"
    }
   ],
   "source": [
    "arr4 = np.arange(12).reshape(4,3)\n",
    "arr4"
   ]
  },
  {
   "cell_type": "code",
   "execution_count": 27,
   "id": "b30039fc",
   "metadata": {},
   "outputs": [
    {
     "data": {
      "text/plain": [
       "array([[ 0,  1,  2],\n",
       "       [10, 10, 10],\n",
       "       [ 3,  4,  5],\n",
       "       [ 6,  7,  8],\n",
       "       [ 9, 10, 11]])"
      ]
     },
     "execution_count": 27,
     "metadata": {},
     "output_type": "execute_result"
    }
   ],
   "source": [
    "np.insert(arr4,1,10,axis=0)"
   ]
  },
  {
   "cell_type": "code",
   "execution_count": 28,
   "id": "2bf460aa",
   "metadata": {},
   "outputs": [
    {
     "data": {
      "text/plain": [
       "array([[ 0, 10,  1,  2],\n",
       "       [ 3, 10,  4,  5],\n",
       "       [ 6, 10,  7,  8],\n",
       "       [ 9, 10, 10, 11]])"
      ]
     },
     "execution_count": 28,
     "metadata": {},
     "output_type": "execute_result"
    }
   ],
   "source": [
    "np.insert(arr4,1,10,axis=1)"
   ]
  },
  {
   "cell_type": "markdown",
   "id": "36df3f8b",
   "metadata": {},
   "source": [
    "#### 3.数组删除"
   ]
  },
  {
   "cell_type": "markdown",
   "id": "b33555e4",
   "metadata": {},
   "source": [
    "numpy.delete(arr. obj, axis=None)  \n",
    "arr:数组  \n",
    "obj:需要删除的数据的位置 \n",
    "axis：轴"
   ]
  },
  {
   "cell_type": "code",
   "execution_count": 30,
   "id": "b4226c79",
   "metadata": {},
   "outputs": [
    {
     "data": {
      "text/plain": [
       "array([[ 1,  2,  3,  4],\n",
       "       [ 5,  6,  7,  8],\n",
       "       [ 9, 10, 11, 12]])"
      ]
     },
     "execution_count": 30,
     "metadata": {},
     "output_type": "execute_result"
    }
   ],
   "source": [
    "arr5 = np.arange(1,13).reshape(3,4)\n",
    "arr5"
   ]
  },
  {
   "cell_type": "code",
   "execution_count": 31,
   "id": "8e67b4b8",
   "metadata": {},
   "outputs": [
    {
     "data": {
      "text/plain": [
       "array([[ 1,  2,  3,  4],\n",
       "       [ 9, 10, 11, 12]])"
      ]
     },
     "execution_count": 31,
     "metadata": {},
     "output_type": "execute_result"
    }
   ],
   "source": [
    "# 删除指定行\n",
    "np.delete(arr5,1,axis=0)"
   ]
  },
  {
   "cell_type": "code",
   "execution_count": 33,
   "id": "4a8a2e1a",
   "metadata": {},
   "outputs": [
    {
     "data": {
      "text/plain": [
       "array([[ 1,  3,  4],\n",
       "       [ 5,  7,  8],\n",
       "       [ 9, 11, 12]])"
      ]
     },
     "execution_count": 33,
     "metadata": {},
     "output_type": "execute_result"
    }
   ],
   "source": [
    "# 删除指定列\n",
    "np.delete(arr5,1,axis = 1)"
   ]
  },
  {
   "cell_type": "markdown",
   "id": "f155bb91",
   "metadata": {},
   "source": [
    "#### 4.去重\n",
    "numpy.unique(ar,axis=None)  \n",
    "ar：数组\n",
    "axis:轴"
   ]
  },
  {
   "cell_type": "code",
   "execution_count": 34,
   "id": "085879ec",
   "metadata": {},
   "outputs": [
    {
     "data": {
      "text/plain": [
       "array([1, 1, 2, 2, 3, 3])"
      ]
     },
     "execution_count": 34,
     "metadata": {},
     "output_type": "execute_result"
    }
   ],
   "source": [
    "arr6 = np.array([1,1,2,2,3,3])\n",
    "arr6"
   ]
  },
  {
   "cell_type": "code",
   "execution_count": 35,
   "id": "e4bae419",
   "metadata": {},
   "outputs": [
    {
     "data": {
      "text/plain": [
       "array([1, 2, 3])"
      ]
     },
     "execution_count": 35,
     "metadata": {},
     "output_type": "execute_result"
    }
   ],
   "source": [
    "b = np.unique(arr6)\n",
    "b"
   ]
  },
  {
   "cell_type": "code",
   "execution_count": 39,
   "id": "c4f11f09",
   "metadata": {},
   "outputs": [
    {
     "data": {
      "text/plain": [
       "array([[ 1,  2,  2,  4],\n",
       "       [ 1,  2,  2,  4],\n",
       "       [ 5,  2,  2,  8],\n",
       "       [ 9,  2,  2, 12]])"
      ]
     },
     "execution_count": 39,
     "metadata": {},
     "output_type": "execute_result"
    }
   ],
   "source": [
    "arr7=np.array([[1,2,2,4],\n",
    "              [1,2,2,4],\n",
    "              [5,2,2,8],\n",
    "              [9,2,2,12]])\n",
    "arr7"
   ]
  },
  {
   "cell_type": "code",
   "execution_count": 40,
   "id": "8bfc66bc",
   "metadata": {},
   "outputs": [
    {
     "data": {
      "text/plain": [
       "array([ 1,  2,  4,  5,  8,  9, 12])"
      ]
     },
     "execution_count": 40,
     "metadata": {},
     "output_type": "execute_result"
    }
   ],
   "source": [
    "# 不指定axis的值\n",
    "s = np.unique(arr7)\n",
    "s"
   ]
  },
  {
   "cell_type": "code",
   "execution_count": 42,
   "id": "f6fb48c9",
   "metadata": {},
   "outputs": [
    {
     "data": {
      "text/plain": [
       "array([[ 1,  2,  4],\n",
       "       [ 1,  2,  4],\n",
       "       [ 5,  2,  8],\n",
       "       [ 9,  2, 12]])"
      ]
     },
     "execution_count": 42,
     "metadata": {},
     "output_type": "execute_result"
    }
   ],
   "source": [
    "# 只会删除数据全部相同的行或列\n",
    "a = np.unique(arr7,axis=1)\n",
    "a"
   ]
  },
  {
   "cell_type": "markdown",
   "id": "16556099",
   "metadata": {},
   "source": [
    "####　5.数组的拼接"
   ]
  },
  {
   "cell_type": "code",
   "execution_count": 46,
   "id": "04b51067",
   "metadata": {},
   "outputs": [
    {
     "name": "stdout",
     "output_type": "stream",
     "text": [
      "[[1 2]\n",
      " [3 4]]\n",
      "[[5 6]\n",
      " [7 8]]\n"
     ]
    }
   ],
   "source": [
    "a = np.array([[1,2],[3,4]])\n",
    "b = np.array([[5,6],[7,8]])\n",
    "print(a)\n",
    "print(b)"
   ]
  },
  {
   "cell_type": "code",
   "execution_count": 49,
   "id": "515da52c",
   "metadata": {
    "scrolled": true
   },
   "outputs": [
    {
     "data": {
      "text/plain": [
       "array([[1, 2],\n",
       "       [3, 4],\n",
       "       [5, 6],\n",
       "       [7, 8]])"
      ]
     },
     "execution_count": 49,
     "metadata": {},
     "output_type": "execute_result"
    }
   ],
   "source": [
    "# 默认按行拼接\n",
    "c = np.concatenate((a,b))\n",
    "c"
   ]
  },
  {
   "cell_type": "code",
   "execution_count": 50,
   "id": "bfedcd3f",
   "metadata": {},
   "outputs": [
    {
     "data": {
      "text/plain": [
       "array([[1, 2, 5, 6],\n",
       "       [3, 4, 7, 8]])"
      ]
     },
     "execution_count": 50,
     "metadata": {},
     "output_type": "execute_result"
    }
   ],
   "source": [
    "d = np.concatenate((a,b),axis = 1)\n",
    "d"
   ]
  },
  {
   "cell_type": "markdown",
   "id": "889f10d4",
   "metadata": {},
   "source": [
    "#### ６.数组的堆叠  \n",
    "1.使用不同的函数名进行堆叠，不会扩展数据的维度，即原始数据是几维，堆叠之后还是几维"
   ]
  },
  {
   "cell_type": "code",
   "execution_count": null,
   "id": "7ee272e8",
   "metadata": {},
   "outputs": [],
   "source": [
    "a = np.array([[1,2],[3,4]])\n",
    "b = np.array([[5,6],[7,8]])"
   ]
  },
  {
   "cell_type": "code",
   "execution_count": 52,
   "id": "b666258a",
   "metadata": {},
   "outputs": [
    {
     "data": {
      "text/plain": [
       "array([[1, 2, 5, 6],\n",
       "       [3, 4, 7, 8]])"
      ]
     },
     "execution_count": 52,
     "metadata": {},
     "output_type": "execute_result"
    }
   ],
   "source": [
    "# 水平堆叠\n",
    "ar = np.hstack((a,b))\n",
    "ar"
   ]
  },
  {
   "cell_type": "code",
   "execution_count": 53,
   "id": "5fd050d5",
   "metadata": {},
   "outputs": [
    {
     "data": {
      "text/plain": [
       "array([[1, 2],\n",
       "       [3, 4],\n",
       "       [5, 6],\n",
       "       [7, 8]])"
      ]
     },
     "execution_count": 53,
     "metadata": {},
     "output_type": "execute_result"
    }
   ],
   "source": [
    "# 垂直堆叠\n",
    "ar = np.vstack((a,b))\n",
    "ar"
   ]
  },
  {
   "cell_type": "markdown",
   "id": "110cc7a1",
   "metadata": {},
   "source": [
    "２.使用函数np.stack((a1,a2,...),axis=0)进行堆叠，通过控制axis的值来控制堆叠方向  \n",
    "\n",
    "np.stack()会扩展数据维度"
   ]
  },
  {
   "cell_type": "code",
   "execution_count": 55,
   "id": "77dc236c",
   "metadata": {},
   "outputs": [
    {
     "data": {
      "text/plain": [
       "array([[[1, 2],\n",
       "        [3, 4]],\n",
       "\n",
       "       [[5, 6],\n",
       "        [7, 8]]])"
      ]
     },
     "execution_count": 55,
     "metadata": {},
     "output_type": "execute_result"
    }
   ],
   "source": [
    "ar2 = np.stack((a,b),axis=0)\n",
    "ar2"
   ]
  },
  {
   "cell_type": "code",
   "execution_count": 56,
   "id": "4c155d4f",
   "metadata": {},
   "outputs": [
    {
     "data": {
      "text/plain": [
       "array([[[1, 2],\n",
       "        [5, 6]],\n",
       "\n",
       "       [[3, 4],\n",
       "        [7, 8]]])"
      ]
     },
     "execution_count": 56,
     "metadata": {},
     "output_type": "execute_result"
    }
   ],
   "source": [
    "ar3 = np.stack((a,b),axis=1)\n",
    "ar3"
   ]
  },
  {
   "cell_type": "code",
   "execution_count": 57,
   "id": "787e455b",
   "metadata": {},
   "outputs": [
    {
     "data": {
      "text/plain": [
       "3"
      ]
     },
     "execution_count": 57,
     "metadata": {},
     "output_type": "execute_result"
    }
   ],
   "source": [
    "ar3.ndim"
   ]
  },
  {
   "cell_type": "markdown",
   "id": "77ef6633",
   "metadata": {},
   "source": [
    "### 7.数组的拆分"
   ]
  },
  {
   "cell_type": "markdown",
   "id": "f2ea019d",
   "metadata": {},
   "source": [
    "np.hsplit(ary, indices_or_sections)  \n",
    "ary:需要操作的数组  \n",
    "indices_or_sections：数值表示需要将数据拆分成几个"
   ]
  },
  {
   "cell_type": "code",
   "execution_count": 59,
   "id": "c5dea4c1",
   "metadata": {},
   "outputs": [
    {
     "name": "stdout",
     "output_type": "stream",
     "text": [
      "[[ 0  1  2  3]\n",
      " [ 4  5  6  7]\n",
      " [ 8  9 10 11]\n",
      " [12 13 14 15]]\n"
     ]
    },
    {
     "data": {
      "text/plain": [
       "[array([[ 0,  1],\n",
       "        [ 4,  5],\n",
       "        [ 8,  9],\n",
       "        [12, 13]]),\n",
       " array([[ 2,  3],\n",
       "        [ 6,  7],\n",
       "        [10, 11],\n",
       "        [14, 15]])]"
      ]
     },
     "execution_count": 59,
     "metadata": {},
     "output_type": "execute_result"
    }
   ],
   "source": [
    "# 数组的拆分\n",
    "arr7 = np.arange(16).reshape(4,4)\n",
    "print(arr7)\n",
    "np.hsplit(arr7, 2)"
   ]
  },
  {
   "cell_type": "code",
   "execution_count": 60,
   "id": "e080ac52",
   "metadata": {},
   "outputs": [
    {
     "data": {
      "text/plain": [
       "[array([[0, 1, 2, 3],\n",
       "        [4, 5, 6, 7]]),\n",
       " array([[ 8,  9, 10, 11],\n",
       "        [12, 13, 14, 15]])]"
      ]
     },
     "execution_count": 60,
     "metadata": {},
     "output_type": "execute_result"
    }
   ],
   "source": [
    "np.vsplit(arr7, 2)"
   ]
  },
  {
   "cell_type": "code",
   "execution_count": null,
   "id": "6612a56d",
   "metadata": {},
   "outputs": [],
   "source": [
    "# np.hsplit(arr7, 3) 无法将原数据分割成相等的3份，所以会报错  "
   ]
  },
  {
   "cell_type": "markdown",
   "id": "c92f7eb1",
   "metadata": {},
   "source": [
    "np.split(ary, indices_or_sections,axis = 0)\n",
    "ary：需要执行拆分操作的数组\n",
    "indices_or_sections：数值表示需要将数据拆分成几个\n",
    "axis：用来控制拆分的方向,默认是0"
   ]
  },
  {
   "cell_type": "code",
   "execution_count": 62,
   "id": "8b13e505",
   "metadata": {},
   "outputs": [
    {
     "data": {
      "text/plain": [
       "[array([[ 0],\n",
       "        [ 4],\n",
       "        [ 8],\n",
       "        [12]]),\n",
       " array([[ 1],\n",
       "        [ 5],\n",
       "        [ 9],\n",
       "        [13]]),\n",
       " array([[ 2],\n",
       "        [ 6],\n",
       "        [10],\n",
       "        [14]]),\n",
       " array([[ 3],\n",
       "        [ 7],\n",
       "        [11],\n",
       "        [15]])]"
      ]
     },
     "execution_count": 62,
     "metadata": {},
     "output_type": "execute_result"
    }
   ],
   "source": [
    "np.split(arr7, 4, axis=1)"
   ]
  },
  {
   "cell_type": "code",
   "execution_count": 63,
   "id": "bfe0ebab",
   "metadata": {
    "collapsed": true
   },
   "outputs": [
    {
     "name": "stdout",
     "output_type": "stream",
     "text": [
      "Help on function split in module numpy:\n",
      "\n",
      "split(ary, indices_or_sections, axis=0)\n",
      "    Split an array into multiple sub-arrays as views into `ary`.\n",
      "    \n",
      "    Parameters\n",
      "    ----------\n",
      "    ary : ndarray\n",
      "        Array to be divided into sub-arrays.\n",
      "    indices_or_sections : int or 1-D array\n",
      "        If `indices_or_sections` is an integer, N, the array will be divided\n",
      "        into N equal arrays along `axis`.  If such a split is not possible,\n",
      "        an error is raised.\n",
      "    \n",
      "        If `indices_or_sections` is a 1-D array of sorted integers, the entries\n",
      "        indicate where along `axis` the array is split.  For example,\n",
      "        ``[2, 3]`` would, for ``axis=0``, result in\n",
      "    \n",
      "          - ary[:2]\n",
      "          - ary[2:3]\n",
      "          - ary[3:]\n",
      "    \n",
      "        If an index exceeds the dimension of the array along `axis`,\n",
      "        an empty sub-array is returned correspondingly.\n",
      "    axis : int, optional\n",
      "        The axis along which to split, default is 0.\n",
      "    \n",
      "    Returns\n",
      "    -------\n",
      "    sub-arrays : list of ndarrays\n",
      "        A list of sub-arrays as views into `ary`.\n",
      "    \n",
      "    Raises\n",
      "    ------\n",
      "    ValueError\n",
      "        If `indices_or_sections` is given as an integer, but\n",
      "        a split does not result in equal division.\n",
      "    \n",
      "    See Also\n",
      "    --------\n",
      "    array_split : Split an array into multiple sub-arrays of equal or\n",
      "                  near-equal size.  Does not raise an exception if\n",
      "                  an equal division cannot be made.\n",
      "    hsplit : Split array into multiple sub-arrays horizontally (column-wise).\n",
      "    vsplit : Split array into multiple sub-arrays vertically (row wise).\n",
      "    dsplit : Split array into multiple sub-arrays along the 3rd axis (depth).\n",
      "    concatenate : Join a sequence of arrays along an existing axis.\n",
      "    stack : Join a sequence of arrays along a new axis.\n",
      "    hstack : Stack arrays in sequence horizontally (column wise).\n",
      "    vstack : Stack arrays in sequence vertically (row wise).\n",
      "    dstack : Stack arrays in sequence depth wise (along third dimension).\n",
      "    \n",
      "    Examples\n",
      "    --------\n",
      "    >>> x = np.arange(9.0)\n",
      "    >>> np.split(x, 3)\n",
      "    [array([0.,  1.,  2.]), array([3.,  4.,  5.]), array([6.,  7.,  8.])]\n",
      "    \n",
      "    >>> x = np.arange(8.0)\n",
      "    >>> np.split(x, [3, 5, 6, 10])\n",
      "    [array([0.,  1.,  2.]),\n",
      "     array([3.,  4.]),\n",
      "     array([5.]),\n",
      "     array([6.,  7.]),\n",
      "     array([], dtype=float64)]\n",
      "\n"
     ]
    }
   ],
   "source": [
    "# help(np.split)"
   ]
  },
  {
   "cell_type": "markdown",
   "id": "419ad41d",
   "metadata": {},
   "source": [
    "####　8.nan和inf"
   ]
  },
  {
   "cell_type": "markdown",
   "id": "c54bcb49",
   "metadata": {},
   "source": [
    "nan(Nan,NAN):表示的是空可以理解为None,由于nan不是一个数字所以nan与任何数字进行相关操作都会得到nan"
   ]
  },
  {
   "cell_type": "code",
   "execution_count": 66,
   "id": "fe1a87d7",
   "metadata": {},
   "outputs": [
    {
     "data": {
      "text/plain": [
       "nan"
      ]
     },
     "execution_count": 66,
     "metadata": {},
     "output_type": "execute_result"
    }
   ],
   "source": [
    "np.nan+2"
   ]
  },
  {
   "cell_type": "code",
   "execution_count": 67,
   "id": "b4d4f8e6",
   "metadata": {},
   "outputs": [
    {
     "data": {
      "text/plain": [
       "nan"
      ]
     },
     "execution_count": 67,
     "metadata": {},
     "output_type": "execute_result"
    }
   ],
   "source": [
    "np.nan*20"
   ]
  },
  {
   "cell_type": "code",
   "execution_count": 69,
   "id": "dfba1f84",
   "metadata": {},
   "outputs": [
    {
     "data": {
      "text/plain": [
       "False"
      ]
     },
     "execution_count": 69,
     "metadata": {},
     "output_type": "execute_result"
    }
   ],
   "source": [
    "np.nan == np.nan"
   ]
  },
  {
   "cell_type": "markdown",
   "id": "1067fe96",
   "metadata": {},
   "source": [
    "因为nan不是一个具体的数据，所以2个不具体的数据进行相等判断的时候就会得到False"
   ]
  },
  {
   "cell_type": "markdown",
   "id": "f6cbbef0",
   "metadata": {},
   "source": [
    "---"
   ]
  },
  {
   "cell_type": "markdown",
   "id": "451cb85c",
   "metadata": {},
   "source": [
    "np.inf:表示无穷大，任何具体的数与inf进行大小判断永远小于inf"
   ]
  },
  {
   "cell_type": "code",
   "execution_count": 70,
   "id": "1ebd9170",
   "metadata": {},
   "outputs": [
    {
     "data": {
      "text/plain": [
       "False"
      ]
     },
     "execution_count": 70,
     "metadata": {},
     "output_type": "execute_result"
    }
   ],
   "source": [
    "np.inf<10*1000"
   ]
  },
  {
   "cell_type": "code",
   "execution_count": 71,
   "id": "441135ec",
   "metadata": {},
   "outputs": [
    {
     "data": {
      "text/plain": [
       "array([False, False,  True])"
      ]
     },
     "execution_count": 71,
     "metadata": {},
     "output_type": "execute_result"
    }
   ],
   "source": [
    "# 使用np.isnan()来判断\n",
    "num = np.array([1,2,np.nan])\n",
    "np.isnan(num)"
   ]
  },
  {
   "cell_type": "markdown",
   "id": "664d8948",
   "metadata": {},
   "source": [
    "### 常用统计函数"
   ]
  },
  {
   "cell_type": "markdown",
   "id": "ad3a9c91",
   "metadata": {},
   "source": [
    "语法：  \n",
    "数组对象.函数名（）"
   ]
  },
  {
   "cell_type": "code",
   "execution_count": 75,
   "id": "37119bc8",
   "metadata": {},
   "outputs": [
    {
     "data": {
      "text/plain": [
       "array([[ 0,  1,  2,  3,  4],\n",
       "       [ 5,  6,  7,  8,  9],\n",
       "       [10, 11, 12, 13, 14],\n",
       "       [15, 16, 17, 18, 19]])"
      ]
     },
     "execution_count": 75,
     "metadata": {},
     "output_type": "execute_result"
    }
   ],
   "source": [
    "num2 = np.arange(20).reshape(4,5)\n",
    "num2"
   ]
  },
  {
   "cell_type": "code",
   "execution_count": 76,
   "id": "97ac9948",
   "metadata": {},
   "outputs": [
    {
     "data": {
      "text/plain": [
       "190"
      ]
     },
     "execution_count": 76,
     "metadata": {},
     "output_type": "execute_result"
    }
   ],
   "source": [
    "num2.sum()"
   ]
  },
  {
   "cell_type": "markdown",
   "id": "15fbb05d",
   "metadata": {},
   "source": [
    "### 条件逻辑"
   ]
  },
  {
   "cell_type": "markdown",
   "id": "311d67a7",
   "metadata": {},
   "source": [
    "三元表达式：\n",
    "x if c else y \n",
    "如果c为真则得到x，否则返回y"
   ]
  },
  {
   "cell_type": "code",
   "execution_count": 78,
   "id": "d68c5c42",
   "metadata": {},
   "outputs": [
    {
     "data": {
      "text/plain": [
       "array([0, 1, 2, 3, 4, 5, 6, 7, 8, 9])"
      ]
     },
     "execution_count": 78,
     "metadata": {},
     "output_type": "execute_result"
    }
   ],
   "source": [
    "num3 = np.arange(10)\n",
    "num3"
   ]
  },
  {
   "cell_type": "code",
   "execution_count": 80,
   "id": "02eaa28b",
   "metadata": {},
   "outputs": [
    {
     "data": {
      "text/plain": [
       "array(['偶数', '奇数', '偶数', '奇数', '偶数', '奇数', '偶数', '奇数', '偶数', '奇数'],\n",
       "      dtype='<U2')"
      ]
     },
     "execution_count": 80,
     "metadata": {},
     "output_type": "execute_result"
    }
   ],
   "source": [
    "bol = np.where(num3%2 == 0,'偶数','奇数')\n",
    "bol"
   ]
  },
  {
   "cell_type": "markdown",
   "id": "0a3989e3",
   "metadata": {},
   "source": [
    "### 通用函数"
   ]
  },
  {
   "cell_type": "markdown",
   "id": "6e0ff1a6",
   "metadata": {},
   "source": [
    "语法：np.函数名（数据）"
   ]
  },
  {
   "cell_type": "code",
   "execution_count": 81,
   "id": "7776db72",
   "metadata": {},
   "outputs": [
    {
     "data": {
      "text/plain": [
       "array([0.        , 1.        , 1.41421356, 1.73205081, 2.        ,\n",
       "       2.23606798, 2.44948974, 2.64575131, 2.82842712, 3.        ])"
      ]
     },
     "execution_count": 81,
     "metadata": {},
     "output_type": "execute_result"
    }
   ],
   "source": [
    "np.sqrt(num3)"
   ]
  },
  {
   "cell_type": "code",
   "execution_count": 86,
   "id": "6840c306",
   "metadata": {},
   "outputs": [
    {
     "data": {
      "text/plain": [
       "array([ 1,  2,  3,  4,  5,  6,  7,  8,  9, 10])"
      ]
     },
     "execution_count": 86,
     "metadata": {},
     "output_type": "execute_result"
    }
   ],
   "source": [
    "# 二元函数：np.函数（数组1，数组2）\n",
    "num4 = np.arange(1,11)\n",
    "num4"
   ]
  },
  {
   "cell_type": "code",
   "execution_count": 87,
   "id": "0a8fef72",
   "metadata": {},
   "outputs": [
    {
     "data": {
      "text/plain": [
       "array([ 2,  4,  6,  8, 10, 12, 14, 16, 18, 20])"
      ]
     },
     "execution_count": 87,
     "metadata": {},
     "output_type": "execute_result"
    }
   ],
   "source": [
    "np.add(num3,num4)"
   ]
  },
  {
   "cell_type": "code",
   "execution_count": 91,
   "id": "4ab5861c",
   "metadata": {},
   "outputs": [
    {
     "name": "stdout",
     "output_type": "stream",
     "text": [
      "Help on function reshape in module numpy:\n",
      "\n",
      "reshape(a, newshape, order='C')\n",
      "    Gives a new shape to an array without changing its data.\n",
      "    \n",
      "    Parameters\n",
      "    ----------\n",
      "    a : array_like\n",
      "        Array to be reshaped.\n",
      "    newshape : int or tuple of ints\n",
      "        The new shape should be compatible with the original shape. If\n",
      "        an integer, then the result will be a 1-D array of that length.\n",
      "        One shape dimension can be -1. In this case, the value is\n",
      "        inferred from the length of the array and remaining dimensions.\n",
      "    order : {'C', 'F', 'A'}, optional\n",
      "        Read the elements of `a` using this index order, and place the\n",
      "        elements into the reshaped array using this index order.  'C'\n",
      "        means to read / write the elements using C-like index order,\n",
      "        with the last axis index changing fastest, back to the first\n",
      "        axis index changing slowest. 'F' means to read / write the\n",
      "        elements using Fortran-like index order, with the first index\n",
      "        changing fastest, and the last index changing slowest. Note that\n",
      "        the 'C' and 'F' options take no account of the memory layout of\n",
      "        the underlying array, and only refer to the order of indexing.\n",
      "        'A' means to read / write the elements in Fortran-like index\n",
      "        order if `a` is Fortran *contiguous* in memory, C-like order\n",
      "        otherwise.\n",
      "    \n",
      "    Returns\n",
      "    -------\n",
      "    reshaped_array : ndarray\n",
      "        This will be a new view object if possible; otherwise, it will\n",
      "        be a copy.  Note there is no guarantee of the *memory layout* (C- or\n",
      "        Fortran- contiguous) of the returned array.\n",
      "    \n",
      "    See Also\n",
      "    --------\n",
      "    ndarray.reshape : Equivalent method.\n",
      "    \n",
      "    Notes\n",
      "    -----\n",
      "    It is not always possible to change the shape of an array without\n",
      "    copying the data. If you want an error to be raised when the data is copied,\n",
      "    you should assign the new shape to the shape attribute of the array::\n",
      "    \n",
      "     >>> a = np.zeros((10, 2))\n",
      "    \n",
      "     # A transpose makes the array non-contiguous\n",
      "     >>> b = a.T\n",
      "    \n",
      "     # Taking a view makes it possible to modify the shape without modifying\n",
      "     # the initial object.\n",
      "     >>> c = b.view()\n",
      "     >>> c.shape = (20)\n",
      "     Traceback (most recent call last):\n",
      "        ...\n",
      "     AttributeError: Incompatible shape for in-place modification. Use\n",
      "     `.reshape()` to make a copy with the desired shape.\n",
      "    \n",
      "    The `order` keyword gives the index ordering both for *fetching* the values\n",
      "    from `a`, and then *placing* the values into the output array.\n",
      "    For example, let's say you have an array:\n",
      "    \n",
      "    >>> a = np.arange(6).reshape((3, 2))\n",
      "    >>> a\n",
      "    array([[0, 1],\n",
      "           [2, 3],\n",
      "           [4, 5]])\n",
      "    \n",
      "    You can think of reshaping as first raveling the array (using the given\n",
      "    index order), then inserting the elements from the raveled array into the\n",
      "    new array using the same kind of index ordering as was used for the\n",
      "    raveling.\n",
      "    \n",
      "    >>> np.reshape(a, (2, 3)) # C-like index ordering\n",
      "    array([[0, 1, 2],\n",
      "           [3, 4, 5]])\n",
      "    >>> np.reshape(np.ravel(a), (2, 3)) # equivalent to C ravel then C reshape\n",
      "    array([[0, 1, 2],\n",
      "           [3, 4, 5]])\n",
      "    >>> np.reshape(a, (2, 3), order='F') # Fortran-like index ordering\n",
      "    array([[0, 4, 3],\n",
      "           [2, 1, 5]])\n",
      "    >>> np.reshape(np.ravel(a, order='F'), (2, 3), order='F')\n",
      "    array([[0, 4, 3],\n",
      "           [2, 1, 5]])\n",
      "    \n",
      "    Examples\n",
      "    --------\n",
      "    >>> a = np.array([[1,2,3], [4,5,6]])\n",
      "    >>> np.reshape(a, 6)\n",
      "    array([1, 2, 3, 4, 5, 6])\n",
      "    >>> np.reshape(a, 6, order='F')\n",
      "    array([1, 4, 2, 5, 3, 6])\n",
      "    \n",
      "    >>> np.reshape(a, (3,-1))       # the unspecified value is inferred to be 2\n",
      "    array([[1, 2],\n",
      "           [3, 4],\n",
      "           [5, 6]])\n",
      "\n"
     ]
    }
   ],
   "source": [
    "help(np.reshape)"
   ]
  },
  {
   "cell_type": "code",
   "execution_count": null,
   "id": "b20ed08f",
   "metadata": {},
   "outputs": [],
   "source": []
  }
 ],
 "metadata": {
  "kernelspec": {
   "display_name": "Python 3 (ipykernel)",
   "language": "python",
   "name": "python3"
  },
  "language_info": {
   "codemirror_mode": {
    "name": "ipython",
    "version": 3
   },
   "file_extension": ".py",
   "mimetype": "text/x-python",
   "name": "python",
   "nbconvert_exporter": "python",
   "pygments_lexer": "ipython3",
   "version": "3.7.7"
  }
 },
 "nbformat": 4,
 "nbformat_minor": 5
}
