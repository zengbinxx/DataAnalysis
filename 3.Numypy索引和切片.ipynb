{
 "cells": [
  {
   "cell_type": "code",
   "execution_count": 7,
   "id": "eba9bcca",
   "metadata": {},
   "outputs": [],
   "source": [
    "#导入Numpy\n",
    "import numpy as np\n",
    "import time"
   ]
  },
  {
   "cell_type": "code",
   "execution_count": 12,
   "id": "57f400fd",
   "metadata": {},
   "outputs": [
    {
     "name": "stdout",
     "output_type": "stream",
     "text": [
      "循环计算事件: 0.27623300000004747\n"
     ]
    }
   ],
   "source": [
    "#python 代码\n",
    "start_time = time.perf_counter()\n",
    "lists=[]\n",
    "for i in range(1000000):\n",
    "    lists.append(i**(1/2))\n",
    "end_time = time.perf_counter()\n",
    "print('循环计算事件:', end_time-start_time)    "
   ]
  },
  {
   "cell_type": "code",
   "execution_count": 14,
   "id": "d230abcf",
   "metadata": {},
   "outputs": [
    {
     "name": "stdout",
     "output_type": "stream",
     "text": [
      "循环计算事件: 0.004625400000804802\n"
     ]
    }
   ],
   "source": [
    "start_time = time.perf_counter()\n",
    "#创建numpy数组\n",
    "arr = np.arange(1000000)\n",
    "#计算arr中每一个数的平方根\n",
    "c = np.sqrt(arr)\n",
    "end_time = time.perf_counter()\n",
    "print('循环计算事件:', end_time-start_time) #numpy效率比python代码高约60倍   "
   ]
  },
  {
   "cell_type": "code",
   "execution_count": 15,
   "id": "d060d702",
   "metadata": {},
   "outputs": [
    {
     "data": {
      "text/plain": [
       "59.72088899381328"
      ]
     },
     "execution_count": 15,
     "metadata": {},
     "output_type": "execute_result"
    }
   ],
   "source": [
    "0.27623300000004747/0.004625400000804802"
   ]
  },
  {
   "cell_type": "code",
   "execution_count": null,
   "id": "eee6f841",
   "metadata": {},
   "outputs": [],
   "source": [
    "#shift+回车 就是运行"
   ]
  },
  {
   "cell_type": "markdown",
   "id": "4a51c410",
   "metadata": {},
   "source": [
    "### 创建数组"
   ]
  },
  {
   "cell_type": "markdown",
   "id": "79a180b9",
   "metadata": {},
   "source": [
    "语法：\n",
    "    np.array('列表')\n",
    "作用：就是将Python列表转为numpy数组  \n",
    "如果有现成的列表或者数据量不大，那么可以使用这种方式创建"
   ]
  },
  {
   "cell_type": "code",
   "execution_count": 16,
   "id": "5e4c761f",
   "metadata": {},
   "outputs": [
    {
     "name": "stdout",
     "output_type": "stream",
     "text": [
      "<class 'numpy.ndarray'>\n"
     ]
    },
    {
     "data": {
      "text/plain": [
       "array([1, 2, 3, 4, 5])"
      ]
     },
     "execution_count": 16,
     "metadata": {},
     "output_type": "execute_result"
    }
   ],
   "source": [
    "# 创建一维数组\n",
    "# 1.直接传入列表的方式\n",
    "arr = np.array([1,2,3,4,5])\n",
    "print(type(arr))\n",
    "arr"
   ]
  },
  {
   "cell_type": "code",
   "execution_count": 18,
   "id": "8721236e",
   "metadata": {},
   "outputs": [
    {
     "data": {
      "text/plain": [
       "array([], dtype=float64)"
      ]
     },
     "execution_count": 18,
     "metadata": {},
     "output_type": "execute_result"
    }
   ],
   "source": [
    "arr1 = np.array([])\n",
    "arr1"
   ]
  },
  {
   "cell_type": "code",
   "execution_count": 21,
   "id": "302d5cc1",
   "metadata": {},
   "outputs": [
    {
     "name": "stdout",
     "output_type": "stream",
     "text": [
      "<class 'list'>\n"
     ]
    },
    {
     "data": {
      "text/plain": [
       "[1, 2, 3, 4, 5]"
      ]
     },
     "execution_count": 21,
     "metadata": {},
     "output_type": "execute_result"
    }
   ],
   "source": [
    "# 数组转列表\n",
    "arr_list = list(arr)\n",
    "print(type(arr_list))\n",
    "arr_list"
   ]
  },
  {
   "cell_type": "markdown",
   "id": "0842a170",
   "metadata": {},
   "source": [
    "### 使用np.arange()创建\n",
    "np.arange(起始值，结束值，步长)类似于range"
   ]
  },
  {
   "cell_type": "code",
   "execution_count": 24,
   "id": "0ae0470f",
   "metadata": {},
   "outputs": [
    {
     "data": {
      "text/plain": [
       "array([0, 2, 4, 6, 8])"
      ]
     },
     "execution_count": 24,
     "metadata": {},
     "output_type": "execute_result"
    }
   ],
   "source": [
    "arr2 = np.arange(0,10,2)\n",
    "arr2"
   ]
  },
  {
   "cell_type": "markdown",
   "id": "910ccdd1",
   "metadata": {},
   "source": [
    "### 如果只有一个变量需要输出，那么可以直接运行，不用print,                 可以偷懒，如果有多个变量还是要prin，否则只会输出最后一个值"
   ]
  },
  {
   "cell_type": "markdown",
   "id": "a240a6f5",
   "metadata": {},
   "source": [
    "### 使用np.linspace()创建等差数组\n",
    " linspace(start, stop, num=50, endpoint = True, retstep-False, dtype = None, axis=0)   \n",
    " start:起始值   \n",
    " stop：结束值     \n",
    " num：数值个数   \n",
    " dtype：指定数据类型   "
   ]
  },
  {
   "cell_type": "code",
   "execution_count": 27,
   "id": "f05375d9",
   "metadata": {},
   "outputs": [
    {
     "data": {
      "text/plain": [
       "array([2.  , 2.25, 2.5 , 2.75, 3.  ])"
      ]
     },
     "execution_count": 27,
     "metadata": {},
     "output_type": "execute_result"
    }
   ],
   "source": [
    "# 创建等差数组，给定起始值，结束值， 数据个数，该函数会自动根据这3个值来计算公差\n",
    "arr4 = np.linspace(2,3,num = 5)\n",
    "arr4"
   ]
  },
  {
   "cell_type": "code",
   "execution_count": 29,
   "id": "ee4e1536",
   "metadata": {},
   "outputs": [
    {
     "data": {
      "text/plain": [
       "array([[1, 2],\n",
       "       [3, 4],\n",
       "       [5, 6]])"
      ]
     },
     "execution_count": 29,
     "metadata": {},
     "output_type": "execute_result"
    }
   ],
   "source": [
    "# 创建2维数组\n",
    "# 传入嵌套的列表\n",
    "lis = [[1,2],[3,4],[5,6]]\n",
    "arr_2 = np.array(lis)\n",
    "arr_2"
   ]
  },
  {
   "cell_type": "code",
   "execution_count": 30,
   "id": "39bbe7a1",
   "metadata": {},
   "outputs": [
    {
     "data": {
      "text/plain": [
       "array([[1, 2],\n",
       "       [3, 4],\n",
       "       [5, 6]])"
      ]
     },
     "execution_count": 30,
     "metadata": {},
     "output_type": "execute_result"
    }
   ],
   "source": [
    "# 创建数组的时候指定数据类型\n",
    "arr_2 = np.array([(1,2),(3.0,4),(5,6)],dtype = int)\n",
    "arr_2"
   ]
  },
  {
   "cell_type": "markdown",
   "id": "f4f2e16c",
   "metadata": {},
   "source": [
    "# 创建特殊数组"
   ]
  },
  {
   "cell_type": "markdown",
   "id": "dcb74ac7",
   "metadata": {},
   "source": [
    "创建全零数组，np.zeros(shape, dtype = None)\n",
    "shape:表示是数据的形状，如果说需要创建是一维数组，那么直接写长度就好了，如果是多维数组，那么就需要将参数用括号括起来，表示这几个参数一起是zeros中的第一个参数  \n",
    "dtype:数据类型"
   ]
  },
  {
   "cell_type": "code",
   "execution_count": 35,
   "id": "7d0f9b72",
   "metadata": {
    "collapsed": true
   },
   "outputs": [
    {
     "data": {
      "text/plain": [
       "array([0., 0., 0., 0., 0.])"
      ]
     },
     "execution_count": 35,
     "metadata": {},
     "output_type": "execute_result"
    }
   ],
   "source": [
    "# 创建一个形状为5的一维全零数组\n",
    "zero = np.zeros(5)\n",
    "zero"
   ]
  },
  {
   "cell_type": "code",
   "execution_count": 36,
   "id": "9cce1163",
   "metadata": {
    "collapsed": true
   },
   "outputs": [
    {
     "data": {
      "text/plain": [
       "array([[0., 0., 0.],\n",
       "       [0., 0., 0.],\n",
       "       [0., 0., 0.]])"
      ]
     },
     "execution_count": 36,
     "metadata": {},
     "output_type": "execute_result"
    }
   ],
   "source": [
    "# 创建一个形状为3行3列的2维全零数组\n",
    "zero2 = np.zeros((3,3))\n",
    "zero2"
   ]
  },
  {
   "cell_type": "code",
   "execution_count": 38,
   "id": "1d189936",
   "metadata": {},
   "outputs": [
    {
     "data": {
      "text/plain": [
       "array([[0., 0., 0.],\n",
       "       [0., 0., 0.],\n",
       "       [0., 0., 0.]])"
      ]
     },
     "execution_count": 38,
     "metadata": {},
     "output_type": "execute_result"
    }
   ],
   "source": [
    "zero3 = np.zeros((3,3))\n",
    "zero3"
   ]
  },
  {
   "cell_type": "markdown",
   "id": "dbe08a48",
   "metadata": {},
   "source": [
    "使用np.ones()创建一个全一数组，参数与全零数组参数一致"
   ]
  },
  {
   "cell_type": "code",
   "execution_count": 39,
   "id": "d1bfa866",
   "metadata": {},
   "outputs": [
    {
     "data": {
      "text/plain": [
       "array([1., 1., 1.])"
      ]
     },
     "execution_count": 39,
     "metadata": {},
     "output_type": "execute_result"
    }
   ],
   "source": [
    "one = np.ones(3)\n",
    "one"
   ]
  },
  {
   "cell_type": "markdown",
   "id": "7a6f118e",
   "metadata": {},
   "source": [
    "使用np.empty()创建随机空数组，参数和上面的ones一致  \n",
    "作用是生产随机数组，里面的数据是随机的，且数据类型默认为float"
   ]
  },
  {
   "cell_type": "code",
   "execution_count": 40,
   "id": "98cdf78e",
   "metadata": {},
   "outputs": [
    {
     "data": {
      "text/plain": [
       "array([[6.23042070e-307, 4.67296746e-307, 1.69121096e-306,\n",
       "        1.78019082e-306],\n",
       "       [1.11256817e-306, 1.06811422e-306, 1.42417221e-306,\n",
       "        1.11260619e-306],\n",
       "       [8.90094053e-307, 1.86919378e-306, 1.06809792e-306,\n",
       "        1.37962456e-306],\n",
       "       [1.69111861e-306, 1.78020169e-306, 1.37961777e-306,\n",
       "        7.56599807e-307]])"
      ]
     },
     "execution_count": 40,
     "metadata": {},
     "output_type": "execute_result"
    }
   ],
   "source": [
    "em = np.empty((4,4))\n",
    "em"
   ]
  },
  {
   "cell_type": "markdown",
   "id": "2eeb67b8",
   "metadata": {},
   "source": [
    "为什么在py文件中再次运行数据会变？  \n",
    "py文件在再次运行代码的时候内存中的数据  \n",
    "但是在jpyter文件中不会"
   ]
  },
  {
   "cell_type": "code",
   "execution_count": 50,
   "id": "72f8e064",
   "metadata": {},
   "outputs": [],
   "source": [
    "num = 10"
   ]
  },
  {
   "cell_type": "code",
   "execution_count": 49,
   "id": "7d01919d",
   "metadata": {},
   "outputs": [
    {
     "data": {
      "text/plain": [
       "10"
      ]
     },
     "execution_count": 49,
     "metadata": {},
     "output_type": "execute_result"
    }
   ],
   "source": [
    "num"
   ]
  },
  {
   "cell_type": "markdown",
   "id": "8510b640",
   "metadata": {},
   "source": [
    "### 数组属性查看"
   ]
  },
  {
   "cell_type": "code",
   "execution_count": 54,
   "id": "14bac0cf",
   "metadata": {},
   "outputs": [
    {
     "name": "stdout",
     "output_type": "stream",
     "text": [
      "查看数组的维度: 1\n",
      "查看数组的形状： (5,)\n",
      "查看数组的大小： 5\n",
      "查看数组元素类型： int32\n",
      "元素字节大小： 4\n",
      "查看数组缓存区位置： <memory at 0x0000025560FA8AC8>\n"
     ]
    }
   ],
   "source": [
    "ar = np.array([1,2,3,4,5])\n",
    "print('查看数组的维度:',ar.ndim)\n",
    "print('查看数组的形状：',ar.shape)\n",
    "print('查看数组的大小：',ar.size)\n",
    "print('查看数组元素类型：',ar.dtype)\n",
    "print('元素字节大小：',ar.itemsize)\n",
    "print('查看数组缓存区位置：',ar.data)"
   ]
  },
  {
   "cell_type": "code",
   "execution_count": 56,
   "id": "dc73da6f",
   "metadata": {},
   "outputs": [
    {
     "name": "stdout",
     "output_type": "stream",
     "text": [
      "查看数组的维度: 2\n",
      "查看数组的形状： (4, 5)\n",
      "查看数组的大小： 20\n",
      "查看数组元素类型： int32\n",
      "元素字节大小： 4\n",
      "查看数组缓存区位置： <memory at 0x0000025560F26F28>\n"
     ]
    },
    {
     "data": {
      "text/plain": [
       "array([[ 0,  1,  2,  3,  4],\n",
       "       [ 5,  6,  7,  8,  9],\n",
       "       [10, 11, 12, 13, 14],\n",
       "       [15, 16, 17, 18, 19]])"
      ]
     },
     "execution_count": 56,
     "metadata": {},
     "output_type": "execute_result"
    }
   ],
   "source": [
    "# reshape()\n",
    "ar = np.arange(20).reshape(4,5)\n",
    "print('查看数组的维度:',ar.ndim)\n",
    "print('查看数组的形状：',ar.shape)# 前面2个用得最多\n",
    "print('查看数组的大小：',ar.size)\n",
    "print('查看数组元素类型：',ar.dtype)\n",
    "print('元素字节大小：',ar.itemsize) # 后面2个几乎用不到\n",
    "print('查看数组缓存区位置：',ar.data)\n",
    "ar"
   ]
  },
  {
   "cell_type": "markdown",
   "id": "1ff55d7e",
   "metadata": {},
   "source": [
    "### 数组的运算"
   ]
  },
  {
   "cell_type": "code",
   "execution_count": 58,
   "id": "61d7feab",
   "metadata": {},
   "outputs": [
    {
     "name": "stdout",
     "output_type": "stream",
     "text": [
      "[[0 1 2]\n",
      " [3 4 5]]\n"
     ]
    },
    {
     "data": {
      "text/plain": [
       "array([[0, 1, 2],\n",
       "       [3, 4, 5]])"
      ]
     },
     "execution_count": 58,
     "metadata": {},
     "output_type": "execute_result"
    }
   ],
   "source": [
    "num = np.arange(6).reshape(2,3)\n",
    "num2 = np.arange(1,7).reshape(2,3)\n",
    "print(num)\n",
    "num"
   ]
  },
  {
   "cell_type": "code",
   "execution_count": 59,
   "id": "e2e57570",
   "metadata": {},
   "outputs": [
    {
     "data": {
      "text/plain": [
       "array([[ 1,  3,  5],\n",
       "       [ 7,  9, 11]])"
      ]
     },
     "execution_count": 59,
     "metadata": {},
     "output_type": "execute_result"
    }
   ],
   "source": [
    "num+num2"
   ]
  },
  {
   "cell_type": "markdown",
   "id": "5170d34a",
   "metadata": {},
   "source": [
    "### 矢量化运算：numpy数组在进行计算的时候会对每一个元素进行计算"
   ]
  },
  {
   "cell_type": "code",
   "execution_count": 60,
   "id": "ca29685e",
   "metadata": {},
   "outputs": [
    {
     "name": "stdout",
     "output_type": "stream",
     "text": [
      "[[0 1]\n",
      " [2 3]\n",
      " [4 5]]\n"
     ]
    },
    {
     "data": {
      "text/plain": [
       "array([[1, 2, 3],\n",
       "       [4, 5, 6]])"
      ]
     },
     "execution_count": 60,
     "metadata": {},
     "output_type": "execute_result"
    }
   ],
   "source": [
    "n = np.arange(6).reshape(3,2)\n",
    "n2 = np.arange(1,7).reshape(2,3)\n",
    "print(n)\n",
    "n2"
   ]
  },
  {
   "cell_type": "code",
   "execution_count": 61,
   "id": "308c41ad",
   "metadata": {},
   "outputs": [
    {
     "ename": "ValueError",
     "evalue": "operands could not be broadcast together with shapes (3,2) (2,3) ",
     "output_type": "error",
     "traceback": [
      "\u001b[1;31m---------------------------------------------------------------------------\u001b[0m",
      "\u001b[1;31mValueError\u001b[0m                                Traceback (most recent call last)",
      "\u001b[1;32m~\\AppData\\Local\\Temp\\ipykernel_7104\\2666705048.py\u001b[0m in \u001b[0;36m<module>\u001b[1;34m\u001b[0m\n\u001b[1;32m----> 1\u001b[1;33m \u001b[0mn\u001b[0m\u001b[1;33m+\u001b[0m\u001b[0mn2\u001b[0m\u001b[1;33m\u001b[0m\u001b[1;33m\u001b[0m\u001b[0m\n\u001b[0m",
      "\u001b[1;31mValueError\u001b[0m: operands could not be broadcast together with shapes (3,2) (2,3) "
     ]
    }
   ],
   "source": [
    "n+n2"
   ]
  },
  {
   "cell_type": "markdown",
   "id": "8492d5cc",
   "metadata": {},
   "source": [
    "广播机制：\n",
    "    数组在进行时，要求两个数组的形状相同，如果说2个数组的形状不同，那么可能会出现广播机制，该机制会对数组进行扩展，使原本形状不同的2个数组广播成形状相同。广播机制会扩展维度较小的数组，使其与维度最大的数组shape相同，以便使用元素级运算。\n",
    "\n",
    "要求：\n",
    "1.2个数组的某一维度等长。\n",
    "2.某一个数组的维度为1.\n",
    "当参与计算的2个数组满足上面任意一个要求时2个数组就会触发广播机制"
   ]
  },
  {
   "cell_type": "code",
   "execution_count": 65,
   "id": "bd437b27",
   "metadata": {},
   "outputs": [
    {
     "name": "stdout",
     "output_type": "stream",
     "text": [
      "[[1]\n",
      " [2]]\n"
     ]
    },
    {
     "data": {
      "text/plain": [
       "array([[4, 5, 6],\n",
       "       [7, 8, 9]])"
      ]
     },
     "execution_count": 65,
     "metadata": {},
     "output_type": "execute_result"
    }
   ],
   "source": [
    "num3 = np.array([[1],[2]])\n",
    "num4 = np.array([[4,5,6],[7,8,9]])\n",
    "print(num3)\n",
    "num4"
   ]
  },
  {
   "cell_type": "code",
   "execution_count": 66,
   "id": "3eb61451",
   "metadata": {},
   "outputs": [
    {
     "data": {
      "text/plain": [
       "array([[ 5,  6,  7],\n",
       "       [ 9, 10, 11]])"
      ]
     },
     "execution_count": 66,
     "metadata": {},
     "output_type": "execute_result"
    }
   ],
   "source": [
    "num3 + num4"
   ]
  },
  {
   "cell_type": "code",
   "execution_count": 68,
   "id": "b4c6cf03",
   "metadata": {},
   "outputs": [
    {
     "name": "stdout",
     "output_type": "stream",
     "text": [
      "[[[ 0  1  2  3]\n",
      "  [ 4  5  6  7]]\n",
      "\n",
      " [[ 8  9 10 11]\n",
      "  [12 13 14 15]]]\n"
     ]
    },
    {
     "data": {
      "text/plain": [
       "3"
      ]
     },
     "execution_count": 68,
     "metadata": {},
     "output_type": "execute_result"
    }
   ],
   "source": [
    "# 创建三维数组\n",
    "arr_3 = np.arange(16).reshape(2,2,4)\n",
    "print(arr_3)\n",
    "arr_3.ndim"
   ]
  },
  {
   "cell_type": "markdown",
   "id": "48c48f73",
   "metadata": {},
   "source": [
    "# 索引和切片"
   ]
  },
  {
   "cell_type": "code",
   "execution_count": 70,
   "id": "ebcf3e21",
   "metadata": {},
   "outputs": [
    {
     "data": {
      "text/plain": [
       "array([3])"
      ]
     },
     "execution_count": 70,
     "metadata": {},
     "output_type": "execute_result"
    }
   ],
   "source": [
    "# 一维数组切片\n",
    "arr_1 = np.array([1,2,3,4,5])\n",
    "arr_1[3]\n",
    "arr_1[2:4] #前闭后开\n",
    "arr_1[2:4:2] #[起始值：结束值：步长]"
   ]
  },
  {
   "cell_type": "code",
   "execution_count": 71,
   "id": "13565f29",
   "metadata": {},
   "outputs": [
    {
     "name": "stdout",
     "output_type": "stream",
     "text": [
      "[[ 0  1  2  3  4]\n",
      " [ 5  6  7  8  9]\n",
      " [10 11 12 13 14]\n",
      " [15 16 17 18 19]]\n"
     ]
    }
   ],
   "source": [
    "# 2维切片\n",
    "arr_2 = np.arange(20).reshape(4,5)\n",
    "print(arr_2)"
   ]
  },
  {
   "cell_type": "code",
   "execution_count": 72,
   "id": "a60191bd",
   "metadata": {},
   "outputs": [
    {
     "data": {
      "text/plain": [
       "16"
      ]
     },
     "execution_count": 72,
     "metadata": {},
     "output_type": "execute_result"
    }
   ],
   "source": [
    "arr_2[3][1]"
   ]
  },
  {
   "cell_type": "code",
   "execution_count": 78,
   "id": "cb78f9c2",
   "metadata": {},
   "outputs": [
    {
     "data": {
      "text/plain": [
       "array([5, 6, 7, 8, 9])"
      ]
     },
     "execution_count": 78,
     "metadata": {},
     "output_type": "execute_result"
    }
   ],
   "source": [
    "arr_2[:][1]"
   ]
  },
  {
   "cell_type": "code",
   "execution_count": 74,
   "id": "b1d72226",
   "metadata": {},
   "outputs": [
    {
     "data": {
      "text/plain": [
       "array([[10, 11, 12, 13, 14],\n",
       "       [15, 16, 17, 18, 19]])"
      ]
     },
     "execution_count": 74,
     "metadata": {},
     "output_type": "execute_result"
    }
   ],
   "source": [
    "arr_2[1:4][1:3]"
   ]
  },
  {
   "cell_type": "code",
   "execution_count": 76,
   "id": "dfcefac2",
   "metadata": {
    "scrolled": true
   },
   "outputs": [
    {
     "data": {
      "text/plain": [
       "array([5, 6, 7, 8, 9])"
      ]
     },
     "execution_count": 76,
     "metadata": {},
     "output_type": "execute_result"
    }
   ],
   "source": [
    "arr_2[1]"
   ]
  },
  {
   "cell_type": "code",
   "execution_count": 77,
   "id": "da1b3b1e",
   "metadata": {},
   "outputs": [
    {
     "data": {
      "text/plain": [
       "array([5, 6, 7, 8, 9])"
      ]
     },
     "execution_count": 77,
     "metadata": {},
     "output_type": "execute_result"
    }
   ],
   "source": [
    "arr_2[1][:]"
   ]
  },
  {
   "cell_type": "code",
   "execution_count": 79,
   "id": "3868c77e",
   "metadata": {},
   "outputs": [
    {
     "data": {
      "text/plain": [
       "array(['python', 'java', 'c', 'html', 'JavaScript'], dtype='<U10')"
      ]
     },
     "execution_count": 79,
     "metadata": {},
     "output_type": "execute_result"
    }
   ],
   "source": [
    "#布尔索引\n",
    "name = np.array(['python','java','c','html','JavaScript'])\n",
    "name"
   ]
  },
  {
   "cell_type": "code",
   "execution_count": 82,
   "id": "b073a958",
   "metadata": {},
   "outputs": [
    {
     "data": {
      "text/plain": [
       "array([[ 0.91515973,  1.15287166, -0.66134831,  2.39974086],\n",
       "       [-0.6230071 ,  0.02992082, -0.03740499, -0.23912719],\n",
       "       [-0.55209168, -0.03031065,  0.73389531, -0.33650689],\n",
       "       [ 0.93895781,  1.15215146, -0.46334994, -0.91033153],\n",
       "       [ 1.56377868,  1.13271583,  0.98652829, -0.63529452]])"
      ]
     },
     "execution_count": 82,
     "metadata": {},
     "output_type": "execute_result"
    }
   ],
   "source": [
    "# 生产满足标准正态分布的数据\n",
    "data = np.random.randn(5,4)\n",
    "data"
   ]
  },
  {
   "cell_type": "code",
   "execution_count": 83,
   "id": "54dbaad6",
   "metadata": {},
   "outputs": [
    {
     "data": {
      "text/plain": [
       "array([ True, False, False, False, False])"
      ]
     },
     "execution_count": 83,
     "metadata": {},
     "output_type": "execute_result"
    }
   ],
   "source": [
    "name == 'python'"
   ]
  },
  {
   "cell_type": "code",
   "execution_count": 85,
   "id": "81162084",
   "metadata": {},
   "outputs": [
    {
     "data": {
      "text/plain": [
       "array([[ 0.91515973,  1.15287166, -0.66134831,  2.39974086]])"
      ]
     },
     "execution_count": 85,
     "metadata": {},
     "output_type": "execute_result"
    }
   ],
   "source": [
    "data[name == 'python']"
   ]
  },
  {
   "cell_type": "code",
   "execution_count": 87,
   "id": "4ff6433e",
   "metadata": {},
   "outputs": [
    {
     "data": {
      "text/plain": [
       "array([[-0.55209168, -0.03031065,  0.73389531, -0.33650689]])"
      ]
     },
     "execution_count": 87,
     "metadata": {},
     "output_type": "execute_result"
    }
   ],
   "source": [
    "data[[ False, False, True, False, False]]"
   ]
  },
  {
   "cell_type": "code",
   "execution_count": null,
   "id": "68c9c163",
   "metadata": {},
   "outputs": [],
   "source": []
  }
 ],
 "metadata": {
  "kernelspec": {
   "display_name": "Python 3 (ipykernel)",
   "language": "python",
   "name": "python3"
  },
  "language_info": {
   "codemirror_mode": {
    "name": "ipython",
    "version": 3
   },
   "file_extension": ".py",
   "mimetype": "text/x-python",
   "name": "python",
   "nbconvert_exporter": "python",
   "pygments_lexer": "ipython3",
   "version": "3.7.7"
  }
 },
 "nbformat": 4,
 "nbformat_minor": 5
}
